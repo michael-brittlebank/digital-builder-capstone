{
 "cells": [
  {
   "cell_type": "code",
   "execution_count": 23,
   "metadata": {},
   "outputs": [
    {
     "name": "stdout",
     "output_type": "stream",
     "text": [
      "[Errno 2] No such file or directory: 'Neighborhood_zhvi_uc_condo_tier_0.33_0.67_sm_sa_mon.csv'\n"
     ]
    }
   ],
   "source": [
    "from modules.data import *\n",
    "\n",
    "ingest_zillow_csv(\"Neighborhood_zhvi_uc_condo_tier_0.33_0.67_sm_sa_mon.csv\")\n"
   ]
  },
  {
   "cell_type": "code",
   "execution_count": null,
   "metadata": {},
   "outputs": [],
   "source": []
  }
 ],
 "metadata": {
  "kernelspec": {
   "display_name": "Python 3",
   "language": "python",
   "name": "python3"
  }
 },
 "nbformat": 4,
 "nbformat_minor": 4
}
