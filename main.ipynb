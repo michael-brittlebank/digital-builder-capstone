{
 "cells": [
  {
   "cell_type": "code",
   "execution_count": 34,
   "metadata": {},
   "outputs": [
    {
     "data": {
      "text/plain": [
       "'en_US.UTF-8'"
      ]
     },
     "execution_count": 34,
     "metadata": {},
     "output_type": "execute_result"
    }
   ],
   "source": [
    "import pandas as pd\n",
    "import numpy as np\n",
    "import copy\n",
    "import locale\n",
    "import math\n",
    "import matplotlib.pyplot as plt\n",
    "%matplotlib inline\n",
    "\n",
    "from modules.files import *\n",
    "from modules.data import *\n",
    "from modules.enums import *\n",
    "\n",
    "pd.set_option('display.max_columns', None)  # or 1000\n",
    "pd.set_option('display.max_rows', None)  # or 1000\n",
    "pd.set_option('display.max_colwidth', None)  # or 199\n",
    "\n",
    "locale.setlocale( locale.LC_ALL, '')\n",
    "\n",
    "\n",
    "#import_csv(\"Neighborhood_zhvi_uc_condo_tier_0.33_0.67_sm_sa_mon.csv\")\n"
   ]
  },
  {
   "cell_type": "code",
   "execution_count": 3,
   "metadata": {},
   "outputs": [],
   "source": [
    "#condo_data = import_csv(\"ingested_condo.csv\")\n",
    "#sfr_data = import_csv(\"ingested_singlefamilyresidence.csv\")"
   ]
  },
  {
   "cell_type": "code",
   "execution_count": 3,
   "metadata": {},
   "outputs": [],
   "source": [
    "\n",
    "#df2 = df1.pivot(index=\"Date\", columns=[\"RegionName\", \"Housing Type\"], values=\"% Change\")\n",
    "#df2 = df2.resample(\"Y\").mean()\n",
    "#df2.head()\n",
    "#df2.plot(legend=False)"
   ]
  },
  {
   "cell_type": "code",
   "execution_count": 115,
   "metadata": {},
   "outputs": [
    {
     "data": {
      "text/html": [
       "<div>\n",
       "<style scoped>\n",
       "    .dataframe tbody tr th:only-of-type {\n",
       "        vertical-align: middle;\n",
       "    }\n",
       "\n",
       "    .dataframe tbody tr th {\n",
       "        vertical-align: top;\n",
       "    }\n",
       "\n",
       "    .dataframe thead th {\n",
       "        text-align: right;\n",
       "    }\n",
       "</style>\n",
       "<table border=\"1\" class=\"dataframe\">\n",
       "  <thead>\n",
       "    <tr style=\"text-align: right;\">\n",
       "      <th></th>\n",
       "      <th>Housing Type</th>\n",
       "      <th>City</th>\n",
       "      <th>State</th>\n",
       "      <th>ZHVI Start</th>\n",
       "      <th>Start Date</th>\n",
       "      <th>ZHVI End</th>\n",
       "      <th>End Date</th>\n",
       "      <th>ZHVI Min</th>\n",
       "      <th>ZHVI Max</th>\n",
       "      <th>Years Diff</th>\n",
       "      <th>% Per Year</th>\n",
       "    </tr>\n",
       "    <tr>\n",
       "      <th>RegionName</th>\n",
       "      <th></th>\n",
       "      <th></th>\n",
       "      <th></th>\n",
       "      <th></th>\n",
       "      <th></th>\n",
       "      <th></th>\n",
       "      <th></th>\n",
       "      <th></th>\n",
       "      <th></th>\n",
       "      <th></th>\n",
       "      <th></th>\n",
       "    </tr>\n",
       "  </thead>\n",
       "  <tbody>\n",
       "    <tr>\n",
       "      <th>90046</th>\n",
       "      <td>SingleFamilyResidence</td>\n",
       "      <td>Los Angeles</td>\n",
       "      <td>CA</td>\n",
       "      <td>172655.0</td>\n",
       "      <td>1996-01-31</td>\n",
       "      <td>2008581.0</td>\n",
       "      <td>2021-02-28</td>\n",
       "      <td>172655.0</td>\n",
       "      <td>2008581.0</td>\n",
       "      <td>25.1</td>\n",
       "      <td>10.270304</td>\n",
       "    </tr>\n",
       "    <tr>\n",
       "      <th>11201</th>\n",
       "      <td>SingleFamilyResidence</td>\n",
       "      <td>New York</td>\n",
       "      <td>NY</td>\n",
       "      <td>467848.0</td>\n",
       "      <td>1996-01-31</td>\n",
       "      <td>2966753.0</td>\n",
       "      <td>2021-02-28</td>\n",
       "      <td>467848.0</td>\n",
       "      <td>3049533.0</td>\n",
       "      <td>25.1</td>\n",
       "      <td>7.636416</td>\n",
       "    </tr>\n",
       "    <tr>\n",
       "      <th>11206</th>\n",
       "      <td>SingleFamilyResidence</td>\n",
       "      <td>New York</td>\n",
       "      <td>NY</td>\n",
       "      <td>180911.0</td>\n",
       "      <td>1996-01-31</td>\n",
       "      <td>1129253.0</td>\n",
       "      <td>2021-02-28</td>\n",
       "      <td>180694.0</td>\n",
       "      <td>1133223.0</td>\n",
       "      <td>25.1</td>\n",
       "      <td>7.568796</td>\n",
       "    </tr>\n",
       "    <tr>\n",
       "      <th>20002</th>\n",
       "      <td>SingleFamilyResidence</td>\n",
       "      <td>Washington</td>\n",
       "      <td>DC</td>\n",
       "      <td>146125.0</td>\n",
       "      <td>1996-01-31</td>\n",
       "      <td>802620.0</td>\n",
       "      <td>2021-02-28</td>\n",
       "      <td>135970.0</td>\n",
       "      <td>802620.0</td>\n",
       "      <td>25.1</td>\n",
       "      <td>7.022114</td>\n",
       "    </tr>\n",
       "    <tr>\n",
       "      <th>90046</th>\n",
       "      <td>Condo</td>\n",
       "      <td>Los Angeles</td>\n",
       "      <td>CA</td>\n",
       "      <td>146200.0</td>\n",
       "      <td>1996-01-31</td>\n",
       "      <td>786405.0</td>\n",
       "      <td>2021-02-28</td>\n",
       "      <td>137765.0</td>\n",
       "      <td>786405.0</td>\n",
       "      <td>25.1</td>\n",
       "      <td>6.932941</td>\n",
       "    </tr>\n",
       "    <tr>\n",
       "      <th>11201</th>\n",
       "      <td>Condo</td>\n",
       "      <td>New York</td>\n",
       "      <td>NY</td>\n",
       "      <td>168301.0</td>\n",
       "      <td>1996-01-31</td>\n",
       "      <td>841613.0</td>\n",
       "      <td>2021-02-28</td>\n",
       "      <td>164529.0</td>\n",
       "      <td>910432.0</td>\n",
       "      <td>25.1</td>\n",
       "      <td>6.622689</td>\n",
       "    </tr>\n",
       "    <tr>\n",
       "      <th>11226</th>\n",
       "      <td>SingleFamilyResidence</td>\n",
       "      <td>New York</td>\n",
       "      <td>NY</td>\n",
       "      <td>215405.0</td>\n",
       "      <td>1996-01-31</td>\n",
       "      <td>1075986.0</td>\n",
       "      <td>2021-02-28</td>\n",
       "      <td>211407.0</td>\n",
       "      <td>1075986.0</td>\n",
       "      <td>25.1</td>\n",
       "      <td>6.618044</td>\n",
       "    </tr>\n",
       "    <tr>\n",
       "      <th>10011</th>\n",
       "      <td>Condo</td>\n",
       "      <td>New York</td>\n",
       "      <td>NY</td>\n",
       "      <td>170150.0</td>\n",
       "      <td>1996-01-31</td>\n",
       "      <td>846310.0</td>\n",
       "      <td>2021-02-28</td>\n",
       "      <td>170150.0</td>\n",
       "      <td>1057748.0</td>\n",
       "      <td>25.1</td>\n",
       "      <td>6.599919</td>\n",
       "    </tr>\n",
       "    <tr>\n",
       "      <th>20009</th>\n",
       "      <td>SingleFamilyResidence</td>\n",
       "      <td>Washington</td>\n",
       "      <td>DC</td>\n",
       "      <td>185511.0</td>\n",
       "      <td>1996-01-31</td>\n",
       "      <td>917701.0</td>\n",
       "      <td>2021-02-28</td>\n",
       "      <td>179545.0</td>\n",
       "      <td>917701.0</td>\n",
       "      <td>25.1</td>\n",
       "      <td>6.576784</td>\n",
       "    </tr>\n",
       "    <tr>\n",
       "      <th>10025</th>\n",
       "      <td>Condo</td>\n",
       "      <td>New York</td>\n",
       "      <td>NY</td>\n",
       "      <td>223756.0</td>\n",
       "      <td>1996-01-31</td>\n",
       "      <td>1090032.0</td>\n",
       "      <td>2021-02-28</td>\n",
       "      <td>222370.0</td>\n",
       "      <td>1338832.0</td>\n",
       "      <td>25.1</td>\n",
       "      <td>6.511621</td>\n",
       "    </tr>\n",
       "  </tbody>\n",
       "</table>\n",
       "</div>"
      ],
      "text/plain": [
       "                     Housing Type         City State  ZHVI Start Start Date  \\\n",
       "RegionName                                                                    \n",
       "90046       SingleFamilyResidence  Los Angeles    CA    172655.0 1996-01-31   \n",
       "11201       SingleFamilyResidence     New York    NY    467848.0 1996-01-31   \n",
       "11206       SingleFamilyResidence     New York    NY    180911.0 1996-01-31   \n",
       "20002       SingleFamilyResidence   Washington    DC    146125.0 1996-01-31   \n",
       "90046                       Condo  Los Angeles    CA    146200.0 1996-01-31   \n",
       "11201                       Condo     New York    NY    168301.0 1996-01-31   \n",
       "11226       SingleFamilyResidence     New York    NY    215405.0 1996-01-31   \n",
       "10011                       Condo     New York    NY    170150.0 1996-01-31   \n",
       "20009       SingleFamilyResidence   Washington    DC    185511.0 1996-01-31   \n",
       "10025                       Condo     New York    NY    223756.0 1996-01-31   \n",
       "\n",
       "             ZHVI End   End Date  ZHVI Min   ZHVI Max  Years Diff  % Per Year  \n",
       "RegionName                                                                     \n",
       "90046       2008581.0 2021-02-28  172655.0  2008581.0        25.1   10.270304  \n",
       "11201       2966753.0 2021-02-28  467848.0  3049533.0        25.1    7.636416  \n",
       "11206       1129253.0 2021-02-28  180694.0  1133223.0        25.1    7.568796  \n",
       "20002        802620.0 2021-02-28  135970.0   802620.0        25.1    7.022114  \n",
       "90046        786405.0 2021-02-28  137765.0   786405.0        25.1    6.932941  \n",
       "11201        841613.0 2021-02-28  164529.0   910432.0        25.1    6.622689  \n",
       "11226       1075986.0 2021-02-28  211407.0  1075986.0        25.1    6.618044  \n",
       "10011        846310.0 2021-02-28  170150.0  1057748.0        25.1    6.599919  \n",
       "20009        917701.0 2021-02-28  179545.0   917701.0        25.1    6.576784  \n",
       "10025       1090032.0 2021-02-28  222370.0  1338832.0        25.1    6.511621  "
      ]
     },
     "execution_count": 115,
     "metadata": {},
     "output_type": "execute_result"
    }
   ],
   "source": [
    "data = get_baseline_data(False, True)\n",
    "\n",
    "df1 = data.copy(deep=True)\n",
    "\n",
    "data = df1.reset_index(\"Housing Type\") # remove multiindex to filter on housing type\n",
    "\n",
    "data.head(10)"
   ]
  },
  {
   "cell_type": "code",
   "execution_count": 33,
   "metadata": {},
   "outputs": [
    {
     "data": {
      "text/html": [
       "<div>\n",
       "<style scoped>\n",
       "    .dataframe tbody tr th:only-of-type {\n",
       "        vertical-align: middle;\n",
       "    }\n",
       "\n",
       "    .dataframe tbody tr th {\n",
       "        vertical-align: top;\n",
       "    }\n",
       "\n",
       "    .dataframe thead th {\n",
       "        text-align: right;\n",
       "    }\n",
       "</style>\n",
       "<table border=\"1\" class=\"dataframe\">\n",
       "  <thead>\n",
       "    <tr style=\"text-align: right;\">\n",
       "      <th></th>\n",
       "      <th>% Per Year Min</th>\n",
       "      <th>% Per Year Max</th>\n",
       "      <th>% Per Year Avg</th>\n",
       "      <th>Years Diff Min</th>\n",
       "      <th>Years Diff Max</th>\n",
       "      <th>Years Diff Avg</th>\n",
       "    </tr>\n",
       "    <tr>\n",
       "      <th>Housing Type</th>\n",
       "      <th></th>\n",
       "      <th></th>\n",
       "      <th></th>\n",
       "      <th></th>\n",
       "      <th></th>\n",
       "      <th></th>\n",
       "    </tr>\n",
       "  </thead>\n",
       "  <tbody>\n",
       "    <tr>\n",
       "      <th>Condo</th>\n",
       "      <td>-0.283760</td>\n",
       "      <td>6.932941</td>\n",
       "      <td>3.912264</td>\n",
       "      <td>5.1</td>\n",
       "      <td>25.1</td>\n",
       "      <td>22.268</td>\n",
       "    </tr>\n",
       "    <tr>\n",
       "      <th>SingleFamilyResidence</th>\n",
       "      <td>-1.209351</td>\n",
       "      <td>10.270304</td>\n",
       "      <td>3.637877</td>\n",
       "      <td>11.7</td>\n",
       "      <td>25.1</td>\n",
       "      <td>22.898</td>\n",
       "    </tr>\n",
       "  </tbody>\n",
       "</table>\n",
       "</div>"
      ],
      "text/plain": [
       "                       % Per Year Min  % Per Year Max  % Per Year Avg  \\\n",
       "Housing Type                                                            \n",
       "Condo                       -0.283760        6.932941        3.912264   \n",
       "SingleFamilyResidence       -1.209351       10.270304        3.637877   \n",
       "\n",
       "                       Years Diff Min  Years Diff Max  Years Diff Avg  \n",
       "Housing Type                                                           \n",
       "Condo                             5.1            25.1          22.268  \n",
       "SingleFamilyResidence            11.7            25.1          22.898  "
      ]
     },
     "execution_count": 33,
     "metadata": {},
     "output_type": "execute_result"
    }
   ],
   "source": [
    "# summary table\n",
    "\n",
    "default_groupby = [\"Housing Type\"]\n",
    "\n",
    "summary_dataframe = pd.DataFrame()\n",
    "summary_dataframe[\"% Per Year Min\"] = data.groupby(default_groupby)[\"% Per Year\"].min()\n",
    "summary_dataframe[\"% Per Year Max\"] = data.groupby(default_groupby)[\"% Per Year\"].max()\n",
    "summary_dataframe[\"% Per Year Avg\"] = data.groupby(default_groupby)[\"% Per Year\"].mean()\n",
    "summary_dataframe[\"Years Diff Min\"] = data.groupby(default_groupby)[\"Years Diff\"].min()\n",
    "summary_dataframe[\"Years Diff Max\"] = data.groupby(default_groupby)[\"Years Diff\"].max()\n",
    "summary_dataframe[\"Years Diff Avg\"] = data.groupby(default_groupby)[\"Years Diff\"].mean()\n",
    "\n",
    "summary_dataframe"
   ]
  },
  {
   "cell_type": "code",
   "execution_count": 116,
   "metadata": {},
   "outputs": [
    {
     "data": {
      "text/plain": [
       "<AxesSubplot:xlabel='ZHVI End', ylabel='% Per Year'>"
      ]
     },
     "execution_count": 116,
     "metadata": {},
     "output_type": "execute_result"
    },
    {
     "data": {
      "image/png": "[encoded data removed]",
      "text/plain": [
       "<Figure size 432x288 with 1 Axes>"
      ]
     },
     "metadata": {
      "needs_background": "light"
     },
     "output_type": "display_data"
    }
   ],
   "source": [
    "# highest condos mapped\n",
    "condodata = data[data[\"Housing Type\"]==\"Condo\"]\n",
    "\n",
    "plot = condodata.plot(kind='scatter', x = 'ZHVI End', y = '% Per Year')\n",
    "\n",
    "def format_func(value, tick_number):\n",
    "    currency = locale.currency(value, grouping=True)\n",
    "    currency_no_decimal = currency.split('.')[0]        \n",
    "    if currency_no_decimal.find(',') != -1:\n",
    "        currency_no_decimal = currency_no_decimal[:currency_no_decimal.index(',')]\n",
    "        if currency.count(',') == 1:\n",
    "            currency_no_decimal+=\"K\"\n",
    "        elif currency.count(',') == 2:\n",
    "            currency_no_decimal+=\"M\"\n",
    "    return currency_no_decimal\n",
    "\n",
    "def percent_formatter(value, tick_number):\n",
    "    return \"{}%\".format(int(value))\n",
    "\n",
    "plot.xaxis.set_major_formatter(plt.FuncFormatter(format_func))\n",
    "plot.yaxis.set_major_formatter(plt.FuncFormatter(percent_formatter))\n",
    "\n",
    "\n",
    "# https://towardsdatascience.com/regression-plots-with-pandas-and-numpy-faf2edbfad4f\n",
    "d = np.polyfit(condodata['ZHVI End'],condodata['% Per Year'],1)\n",
    "f = np.poly1d(d)\n",
    "\n",
    "condodata.insert(6,'Trend',f(condodata['ZHVI End']))\n",
    "\n",
    "condodata.plot(x='ZHVI End', y='Trend',color='Red',ax=plot)"
   ]
  },
  {
   "cell_type": "code",
   "execution_count": 129,
   "metadata": {},
   "outputs": [
    {
     "data": {
      "text/plain": [
       "<AxesSubplot:xlabel='ZHVI End', ylabel='% Per Year'>"
      ]
     },
     "execution_count": 129,
     "metadata": {},
     "output_type": "execute_result"
    },
    {
     "data": {
      "image/png": "[encoded data removed]",
      "text/plain": [
       "<Figure size 432x288 with 1 Axes>"
      ]
     },
     "metadata": {
      "needs_background": "light"
     },
     "output_type": "display_data"
    }
   ],
   "source": [
    "# highest sfr summary table\n",
    "sfrdata = data[data[\"Housing Type\"]==\"SingleFamilyResidence\"]\n",
    "\n",
    "plot = sfrdata.plot(kind='scatter', x = 'ZHVI End', y = '% Per Year')\n",
    "\n",
    "plot.xaxis.set_major_formatter(plt.FuncFormatter(format_func))\n",
    "plot.yaxis.set_major_formatter(plt.FuncFormatter(percent_formatter))\n",
    "\n",
    "d = np.polyfit(condodata['ZHVI End'],condodata['% Per Year'],1)\n",
    "f = np.poly1d(d)\n",
    "\n",
    "sfrdata.insert(len(sfrdata.columns),'Trend',f(sfrdata['ZHVI End']))\n",
    "\n",
    "sfrdata.plot(x='ZHVI End', y='Trend',color='Red',ax=plot)"
   ]
  },
  {
   "cell_type": "code",
   "execution_count": 125,
   "metadata": {},
   "outputs": [
    {
     "data": {
      "text/plain": [
       "'2021-04-01T12:44:19'"
      ]
     },
     "execution_count": 125,
     "metadata": {},
     "output_type": "execute_result"
    }
   ],
   "source": [
    "from datetime import datetime\n",
    "\n",
    "datetime.now().strftime(\"%Y-%m-%dT%H:%M:%S\")"
   ]
  },
  {
   "cell_type": "code",
   "execution_count": null,
   "metadata": {},
   "outputs": [],
   "source": []
  }
 ],
 "metadata": {
  "kernelspec": {
   "display_name": "Python 3",
   "language": "python",
   "name": "python3"
  },
  "language_info": {
   "codemirror_mode": {
    "name": "ipython",
    "version": 3
   },
   "file_extension": ".py",
   "mimetype": "text/x-python",
   "name": "python",
   "nbconvert_exporter": "python",
   "pygments_lexer": "ipython3",
   "version": "3.8.5"
  }
 },
 "nbformat": 4,
 "nbformat_minor": 4
}
